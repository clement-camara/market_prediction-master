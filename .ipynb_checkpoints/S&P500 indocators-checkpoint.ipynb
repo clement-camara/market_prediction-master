{
 "cells": [
  {
   "cell_type": "code",
   "execution_count": 350,
   "metadata": {},
   "outputs": [],
   "source": [
    "import pandas as pd\n",
    "import numpy as np\n",
    "from datetime import datetime\n",
    "\n",
    "from sklearn.linear_model import LinearRegression\n",
    "from sklearn.metrics import mean_squared_error\n",
    "from sklearn.ensemble import RandomForestRegressor\n",
    "\n",
    "import matplotlib.pyplot as plt\n",
    "import seaborn as sns"
   ]
  },
  {
   "cell_type": "code",
   "execution_count": 351,
   "metadata": {},
   "outputs": [
    {
     "data": {
      "text/html": [
       "<div>\n",
       "<style scoped>\n",
       "    .dataframe tbody tr th:only-of-type {\n",
       "        vertical-align: middle;\n",
       "    }\n",
       "\n",
       "    .dataframe tbody tr th {\n",
       "        vertical-align: top;\n",
       "    }\n",
       "\n",
       "    .dataframe thead th {\n",
       "        text-align: right;\n",
       "    }\n",
       "</style>\n",
       "<table border=\"1\" class=\"dataframe\">\n",
       "  <thead>\n",
       "    <tr style=\"text-align: right;\">\n",
       "      <th></th>\n",
       "      <th>Date</th>\n",
       "      <th>Open</th>\n",
       "      <th>High</th>\n",
       "      <th>Low</th>\n",
       "      <th>Close</th>\n",
       "      <th>Adj Close</th>\n",
       "      <th>Volume</th>\n",
       "      <th>MM_sans_frais</th>\n",
       "      <th>MM_avec_frais</th>\n",
       "      <th>MM_avec_frais_1000e</th>\n",
       "      <th>market_activity</th>\n",
       "    </tr>\n",
       "  </thead>\n",
       "  <tbody>\n",
       "    <tr>\n",
       "      <th>0</th>\n",
       "      <td>1971-02-05</td>\n",
       "      <td>100.000000</td>\n",
       "      <td>100.000000</td>\n",
       "      <td>100.000000</td>\n",
       "      <td>100.000000</td>\n",
       "      <td>100.000000</td>\n",
       "      <td>0</td>\n",
       "      <td>0</td>\n",
       "      <td>0</td>\n",
       "      <td>0</td>\n",
       "      <td>True</td>\n",
       "    </tr>\n",
       "    <tr>\n",
       "      <th>1</th>\n",
       "      <td>1971-02-08</td>\n",
       "      <td>100.839996</td>\n",
       "      <td>100.839996</td>\n",
       "      <td>100.839996</td>\n",
       "      <td>100.839996</td>\n",
       "      <td>100.839996</td>\n",
       "      <td>0</td>\n",
       "      <td>0</td>\n",
       "      <td>0</td>\n",
       "      <td>0</td>\n",
       "      <td>True</td>\n",
       "    </tr>\n",
       "    <tr>\n",
       "      <th>2</th>\n",
       "      <td>1971-02-09</td>\n",
       "      <td>100.760002</td>\n",
       "      <td>100.760002</td>\n",
       "      <td>100.760002</td>\n",
       "      <td>100.760002</td>\n",
       "      <td>100.760002</td>\n",
       "      <td>0</td>\n",
       "      <td>0</td>\n",
       "      <td>0</td>\n",
       "      <td>0</td>\n",
       "      <td>True</td>\n",
       "    </tr>\n",
       "    <tr>\n",
       "      <th>3</th>\n",
       "      <td>1971-02-10</td>\n",
       "      <td>100.690002</td>\n",
       "      <td>100.690002</td>\n",
       "      <td>100.690002</td>\n",
       "      <td>100.690002</td>\n",
       "      <td>100.690002</td>\n",
       "      <td>0</td>\n",
       "      <td>0</td>\n",
       "      <td>0</td>\n",
       "      <td>0</td>\n",
       "      <td>True</td>\n",
       "    </tr>\n",
       "    <tr>\n",
       "      <th>4</th>\n",
       "      <td>1971-02-11</td>\n",
       "      <td>101.449997</td>\n",
       "      <td>101.449997</td>\n",
       "      <td>101.449997</td>\n",
       "      <td>101.449997</td>\n",
       "      <td>101.449997</td>\n",
       "      <td>0</td>\n",
       "      <td>0</td>\n",
       "      <td>0</td>\n",
       "      <td>0</td>\n",
       "      <td>True</td>\n",
       "    </tr>\n",
       "    <tr>\n",
       "      <th>...</th>\n",
       "      <td>...</td>\n",
       "      <td>...</td>\n",
       "      <td>...</td>\n",
       "      <td>...</td>\n",
       "      <td>...</td>\n",
       "      <td>...</td>\n",
       "      <td>...</td>\n",
       "      <td>...</td>\n",
       "      <td>...</td>\n",
       "      <td>...</td>\n",
       "      <td>...</td>\n",
       "    </tr>\n",
       "    <tr>\n",
       "      <th>12696</th>\n",
       "      <td>2021-06-09</td>\n",
       "      <td>13980.230469</td>\n",
       "      <td>14003.500000</td>\n",
       "      <td>13906.450195</td>\n",
       "      <td>13911.750000</td>\n",
       "      <td>13911.750000</td>\n",
       "      <td>5607720000</td>\n",
       "      <td>0</td>\n",
       "      <td>0</td>\n",
       "      <td>0</td>\n",
       "      <td>True</td>\n",
       "    </tr>\n",
       "    <tr>\n",
       "      <th>12697</th>\n",
       "      <td>2021-06-10</td>\n",
       "      <td>13933.879883</td>\n",
       "      <td>14031.190430</td>\n",
       "      <td>13904.400391</td>\n",
       "      <td>14020.330078</td>\n",
       "      <td>14020.330078</td>\n",
       "      <td>4889500000</td>\n",
       "      <td>0</td>\n",
       "      <td>0</td>\n",
       "      <td>0</td>\n",
       "      <td>True</td>\n",
       "    </tr>\n",
       "    <tr>\n",
       "      <th>12698</th>\n",
       "      <td>2021-06-11</td>\n",
       "      <td>14030.849609</td>\n",
       "      <td>14069.419922</td>\n",
       "      <td>14006.589844</td>\n",
       "      <td>14069.419922</td>\n",
       "      <td>14069.419922</td>\n",
       "      <td>4140190000</td>\n",
       "      <td>0</td>\n",
       "      <td>0</td>\n",
       "      <td>0</td>\n",
       "      <td>True</td>\n",
       "    </tr>\n",
       "    <tr>\n",
       "      <th>12699</th>\n",
       "      <td>2021-06-14</td>\n",
       "      <td>14083.469727</td>\n",
       "      <td>14175.450195</td>\n",
       "      <td>14056.669922</td>\n",
       "      <td>14174.139648</td>\n",
       "      <td>14174.139648</td>\n",
       "      <td>4394380000</td>\n",
       "      <td>0</td>\n",
       "      <td>0</td>\n",
       "      <td>0</td>\n",
       "      <td>True</td>\n",
       "    </tr>\n",
       "    <tr>\n",
       "      <th>12700</th>\n",
       "      <td>2021-06-15</td>\n",
       "      <td>14166.639648</td>\n",
       "      <td>14171.019531</td>\n",
       "      <td>14052.160156</td>\n",
       "      <td>14072.860352</td>\n",
       "      <td>14072.860352</td>\n",
       "      <td>4517770000</td>\n",
       "      <td>0</td>\n",
       "      <td>0</td>\n",
       "      <td>0</td>\n",
       "      <td>True</td>\n",
       "    </tr>\n",
       "  </tbody>\n",
       "</table>\n",
       "<p>12701 rows × 11 columns</p>\n",
       "</div>"
      ],
      "text/plain": [
       "            Date          Open          High           Low         Close  \\\n",
       "0     1971-02-05    100.000000    100.000000    100.000000    100.000000   \n",
       "1     1971-02-08    100.839996    100.839996    100.839996    100.839996   \n",
       "2     1971-02-09    100.760002    100.760002    100.760002    100.760002   \n",
       "3     1971-02-10    100.690002    100.690002    100.690002    100.690002   \n",
       "4     1971-02-11    101.449997    101.449997    101.449997    101.449997   \n",
       "...          ...           ...           ...           ...           ...   \n",
       "12696 2021-06-09  13980.230469  14003.500000  13906.450195  13911.750000   \n",
       "12697 2021-06-10  13933.879883  14031.190430  13904.400391  14020.330078   \n",
       "12698 2021-06-11  14030.849609  14069.419922  14006.589844  14069.419922   \n",
       "12699 2021-06-14  14083.469727  14175.450195  14056.669922  14174.139648   \n",
       "12700 2021-06-15  14166.639648  14171.019531  14052.160156  14072.860352   \n",
       "\n",
       "          Adj Close      Volume  MM_sans_frais  MM_avec_frais  \\\n",
       "0        100.000000           0              0              0   \n",
       "1        100.839996           0              0              0   \n",
       "2        100.760002           0              0              0   \n",
       "3        100.690002           0              0              0   \n",
       "4        101.449997           0              0              0   \n",
       "...             ...         ...            ...            ...   \n",
       "12696  13911.750000  5607720000              0              0   \n",
       "12697  14020.330078  4889500000              0              0   \n",
       "12698  14069.419922  4140190000              0              0   \n",
       "12699  14174.139648  4394380000              0              0   \n",
       "12700  14072.860352  4517770000              0              0   \n",
       "\n",
       "       MM_avec_frais_1000e  market_activity  \n",
       "0                        0             True  \n",
       "1                        0             True  \n",
       "2                        0             True  \n",
       "3                        0             True  \n",
       "4                        0             True  \n",
       "...                    ...              ...  \n",
       "12696                    0             True  \n",
       "12697                    0             True  \n",
       "12698                    0             True  \n",
       "12699                    0             True  \n",
       "12700                    0             True  \n",
       "\n",
       "[12701 rows x 11 columns]"
      ]
     },
     "execution_count": 351,
     "metadata": {},
     "output_type": "execute_result"
    }
   ],
   "source": [
    "#df = pd.read_csv('SOL1-USD.csv')\n",
    "df = pd.read_csv('nasdaq.csv')\n",
    "\n",
    "df['Date'] = pd.to_datetime(df['Date'])\n",
    "\n",
    "\n",
    "df.sort_values(by=['Date'], inplace=True)\n",
    "\n",
    "\n",
    "#df = df[df['Date'] > datetime(year=1997, month=1, day=1)]  #nasdaq\n",
    "#df = df[df['Date'] > datetime(year=2020, month=10, day=18)] #solana\n",
    "\n",
    "\n",
    "\n",
    "\n",
    "df=df.assign(MM_sans_frais=0)\n",
    "df=df.assign(MM_avec_frais=0)\n",
    "df=df.assign(MM_avec_frais_1000e=0)\n",
    "df=df.assign(market_activity=True)\n",
    "\n",
    "# from stockstats import StockDataFrame\n",
    "# stocks = StockDataFrame.retype(df[[\"Open\", \"Close\", \"High\", \"Low\", \"Volume\"]])\n",
    "\n",
    "# df = df.reset_index()\n",
    "# df = df.drop([\"index\"], axis=1)\n",
    "\n",
    "df\n"
   ]
  },
  {
   "cell_type": "code",
   "execution_count": 352,
   "metadata": {},
   "outputs": [
    {
     "data": {
      "text/plain": [
       "(12701, 11)"
      ]
     },
     "execution_count": 352,
     "metadata": {},
     "output_type": "execute_result"
    }
   ],
   "source": [
    "df.shape"
   ]
  },
  {
   "cell_type": "code",
   "execution_count": 353,
   "metadata": {},
   "outputs": [
    {
     "data": {
      "image/png": "[encoded data removed]",
      "text/plain": [
       "<Figure size 432x288 with 1 Axes>"
      ]
     },
     "metadata": {
      "needs_background": "light"
     },
     "output_type": "display_data"
    }
   ],
   "source": [
    "plt.plot( df['Date'], df['Adj Close'] )\n",
    "plt.show()"
   ]
  },
  {
   "cell_type": "code",
   "execution_count": 354,
   "metadata": {},
   "outputs": [],
   "source": [
    "df['Adj Close'] = (df['Adj Close'] / df.values[0][5]) * 100\n",
    "\n",
    "close_px = df['Adj Close']\n",
    "mavg = close_px.rolling(window=100).mean()\n",
    "#mavg = close_px.rolling(window=100,center=True).mean()\n",
    "df['moyenne_mobile'] = mavg"
   ]
  },
  {
   "cell_type": "code",
   "execution_count": 355,
   "metadata": {},
   "outputs": [
    {
     "data": {
      "text/plain": [
       "[<matplotlib.lines.Line2D at 0x7fcce2ad2fd0>]"
      ]
     },
     "execution_count": 355,
     "metadata": {},
     "output_type": "execute_result"
    },
    {
     "data": {
      "image/png": "[encoded data removed]",
      "text/plain": [
       "<Figure size 432x288 with 1 Axes>"
      ]
     },
     "metadata": {
      "needs_background": "light"
     },
     "output_type": "display_data"
    }
   ],
   "source": [
    "plt.plot(df['Date'], df['moyenne_mobile'], color=\"g\", label=\"moyenne_mobile\")"
   ]
  },
  {
   "cell_type": "code",
   "execution_count": 356,
   "metadata": {},
   "outputs": [],
   "source": [
    "frais = 2.5\n",
    "\n",
    "total_frais = 0\n",
    "market_activity = True\n",
    "div_first = df['Adj Close'][0]\n",
    "portefeuille_perso = df['Adj Close'][0]\n",
    "portefeuille_perso_frais = df['Adj Close'][0]\n",
    "MM_avec_frais_1000e = df['Adj Close'][0]*10\n",
    "index = -1\n",
    "last_adj_close = df['Adj Close'][0]\n",
    "\n",
    "for df_element in df.values:\n",
    "    index += 1\n",
    "    adj_close = df_element[5]\n",
    "    date = df_element[0]\n",
    "    macds = df_element[8]\n",
    "    pourcent_var = (adj_close-last_adj_close) /last_adj_close\n",
    "    \n",
    "    if market_activity is True:\n",
    "        \n",
    "        \n",
    "        if pourcent_var >= 0 :\n",
    "            portefeuille_perso = portefeuille_perso + (portefeuille_perso*pourcent_var)\n",
    "            portefeuille_perso_frais = portefeuille_perso_frais + (portefeuille_perso_frais*pourcent_var)\n",
    "            MM_avec_frais_1000e = MM_avec_frais_1000e + (MM_avec_frais_1000e*pourcent_var)\n",
    "        else :\n",
    "            pourcent_var *= -1\n",
    "            portefeuille_perso = portefeuille_perso - (portefeuille_perso*pourcent_var)\n",
    "            portefeuille_perso_frais = portefeuille_perso_frais - (portefeuille_perso_frais*pourcent_var)\n",
    "            MM_avec_frais_1000e = MM_avec_frais_1000e - (MM_avec_frais_1000e*pourcent_var)\n",
    "    \n",
    "        try:\n",
    "            if df['moyenne_mobile'][index-1] > df['moyenne_mobile'][index] :\n",
    "                market_activity = False\n",
    "                total_frais += frais\n",
    "                portefeuille_perso_frais -= frais\n",
    "                MM_avec_frais_1000e -= frais\n",
    "                #print(f\"{date} || GO SELL || {index} || {adj_close} || {portefeuille_perso} || {portefeuille_perso_frais}\")\n",
    "        except:\n",
    "            pass\n",
    "\n",
    "        \n",
    "    try:\n",
    "        if df['moyenne_mobile'][index-1] < df['moyenne_mobile'][index] and market_activity is False:\n",
    "            market_activity = True\n",
    "            total_frais += frais\n",
    "\n",
    "\n",
    "            if pourcent_var >= 0 :\n",
    "                portefeuille_perso = portefeuille_perso + (portefeuille_perso*pourcent_var)\n",
    "                portefeuille_perso_frais = portefeuille_perso_frais + (portefeuille_perso_frais*pourcent_var)\n",
    "                MM_avec_frais_1000e = MM_avec_frais_1000e + (MM_avec_frais_1000e*pourcent_var)\n",
    "            else :\n",
    "                pourcent_var *= -1\n",
    "                portefeuille_perso = portefeuille_perso - (portefeuille_perso*pourcent_var)\n",
    "                portefeuille_perso_frais = portefeuille_perso_frais - (portefeuille_perso_frais*pourcent_var)\n",
    "                MM_avec_frais_1000e = MM_avec_frais_1000e - (MM_avec_frais_1000e*pourcent_var)\n",
    "            \n",
    "            portefeuille_perso_frais -= frais\n",
    "            MM_avec_frais_1000e -= frais\n",
    "            #print(f\"{date} || GO BUY || {index} || {adj_close}|| {portefeuille_perso} || {portefeuille_perso_frais}\\n\")\n",
    "    except:\n",
    "        pass\n",
    "\n",
    "    if portefeuille_perso_frais < 0:\n",
    "        portefeuille_perso_frais = 0\n",
    "    df.iloc[index, 7] = portefeuille_perso\n",
    "    df.iloc[index, 8] = portefeuille_perso_frais\n",
    "    df.iloc[index, 9] = MM_avec_frais_1000e\n",
    "    df.iloc[index, 10] = market_activity\n",
    "    last_adj_close = adj_close\n"
   ]
  },
  {
   "cell_type": "code",
   "execution_count": null,
   "metadata": {},
   "outputs": [],
   "source": []
  },
  {
   "cell_type": "code",
   "execution_count": 357,
   "metadata": {},
   "outputs": [
    {
     "data": {
      "image/png": "[encoded data removed]",
      "text/plain": [
       "<Figure size 432x288 with 1 Axes>"
      ]
     },
     "metadata": {
      "needs_background": "light"
     },
     "output_type": "display_data"
    }
   ],
   "source": [
    "plt.plot(df['Date'], df.MM_sans_frais, color=\"g\", label=\"MM 100p sans frais 100€\")\n",
    "plt.plot(df['Date'], df['Adj Close'], color=\"b\", label=\"nasdaq 100€\")\n",
    "\n",
    "plt.legend(loc=\"upper left\")\n",
    "plt.show()"
   ]
  },
  {
   "cell_type": "code",
   "execution_count": 358,
   "metadata": {},
   "outputs": [
    {
     "name": "stdout",
     "output_type": "stream",
     "text": [
      "nasdaq 100€ : 14072€\n",
      "MM 100p sans frais 100€ : 59812€\n"
     ]
    }
   ],
   "source": [
    "print(f\"nasdaq 100€ : {int(df['Adj Close'].values[-1:][0])}€\\nMM 100p sans frais 100€ : {int(df.MM_sans_frais.values[-1:][0])}€\")"
   ]
  },
  {
   "cell_type": "code",
   "execution_count": 359,
   "metadata": {},
   "outputs": [
    {
     "data": {
      "text/plain": [
       "(384.0, 960.0)"
      ]
     },
     "execution_count": 359,
     "metadata": {},
     "output_type": "execute_result"
    }
   ],
   "source": [
    "total_frais/frais, total_frais"
   ]
  },
  {
   "cell_type": "code",
   "execution_count": 360,
   "metadata": {},
   "outputs": [
    {
     "data": {
      "image/png": "[encoded data removed]",
      "text/plain": [
       "<Figure size 432x288 with 1 Axes>"
      ]
     },
     "metadata": {
      "needs_background": "light"
     },
     "output_type": "display_data"
    }
   ],
   "source": [
    "plt.plot(df['Date'], df.MM_sans_frais, color=\"g\", label=\"MM 100p sans frais 100€\")\n",
    "plt.plot(df['Date'], df.MM_avec_frais, color=\"r\", label=\"MM 100p avec frais 100€\")\n",
    "plt.plot(df['Date'], df['Adj Close'], color=\"b\", label=\"nasdaq 100€\")\n",
    "\n",
    "\n",
    "plt.legend(loc=\"upper left\")\n",
    "plt.show()"
   ]
  },
  {
   "cell_type": "code",
   "execution_count": 361,
   "metadata": {},
   "outputs": [
    {
     "data": {
      "text/html": [
       "<div>\n",
       "<style scoped>\n",
       "    .dataframe tbody tr th:only-of-type {\n",
       "        vertical-align: middle;\n",
       "    }\n",
       "\n",
       "    .dataframe tbody tr th {\n",
       "        vertical-align: top;\n",
       "    }\n",
       "\n",
       "    .dataframe thead th {\n",
       "        text-align: right;\n",
       "    }\n",
       "</style>\n",
       "<table border=\"1\" class=\"dataframe\">\n",
       "  <thead>\n",
       "    <tr style=\"text-align: right;\">\n",
       "      <th></th>\n",
       "      <th>Date</th>\n",
       "      <th>Open</th>\n",
       "      <th>High</th>\n",
       "      <th>Low</th>\n",
       "      <th>Close</th>\n",
       "      <th>Adj Close</th>\n",
       "      <th>Volume</th>\n",
       "      <th>MM_sans_frais</th>\n",
       "      <th>MM_avec_frais</th>\n",
       "      <th>MM_avec_frais_1000e</th>\n",
       "      <th>market_activity</th>\n",
       "      <th>moyenne_mobile</th>\n",
       "    </tr>\n",
       "  </thead>\n",
       "  <tbody>\n",
       "    <tr>\n",
       "      <th>12700</th>\n",
       "      <td>2021-06-15</td>\n",
       "      <td>14166.639648</td>\n",
       "      <td>14171.019531</td>\n",
       "      <td>14052.160156</td>\n",
       "      <td>14072.860352</td>\n",
       "      <td>14072.860352</td>\n",
       "      <td>4517770000</td>\n",
       "      <td>59812.062361</td>\n",
       "      <td>0.0</td>\n",
       "      <td>508165.161793</td>\n",
       "      <td>True</td>\n",
       "      <td>13596.676191</td>\n",
       "    </tr>\n",
       "  </tbody>\n",
       "</table>\n",
       "</div>"
      ],
      "text/plain": [
       "            Date          Open          High           Low         Close  \\\n",
       "12700 2021-06-15  14166.639648  14171.019531  14052.160156  14072.860352   \n",
       "\n",
       "          Adj Close      Volume  MM_sans_frais  MM_avec_frais  \\\n",
       "12700  14072.860352  4517770000   59812.062361            0.0   \n",
       "\n",
       "       MM_avec_frais_1000e  market_activity  moyenne_mobile  \n",
       "12700        508165.161793             True    13596.676191  "
      ]
     },
     "execution_count": 361,
     "metadata": {},
     "output_type": "execute_result"
    }
   ],
   "source": [
    "df[-1:]"
   ]
  },
  {
   "cell_type": "code",
   "execution_count": 362,
   "metadata": {},
   "outputs": [
    {
     "data": {
      "image/png": "[encoded data removed]",
      "text/plain": [
       "<Figure size 432x288 with 1 Axes>"
      ]
     },
     "metadata": {
      "needs_background": "light"
     },
     "output_type": "display_data"
    }
   ],
   "source": [
    "plt.plot(df['Date'], df.MM_sans_frais, color=\"g\", label=\"MM 100p sans frais 100€\")\n",
    "plt.plot(df['Date'], df.MM_avec_frais, color=\"r\", label=\"MM 100p avec frais 100€\")\n",
    "plt.plot(df['Date'], df.MM_avec_frais_1000e, color=\"orange\", label=\"MM 100p avec frais 1000€\")\n",
    "plt.plot(df['Date'], df['Adj Close'], color=\"b\", label=\"nasdaq 100€\")\n",
    "\n",
    "\n",
    "plt.legend(loc=\"upper left\")\n",
    "plt.show()"
   ]
  },
  {
   "cell_type": "code",
   "execution_count": 363,
   "metadata": {},
   "outputs": [
    {
     "data": {
      "image/png": "[encoded data removed]",
      "text/plain": [
       "<Figure size 432x288 with 1 Axes>"
      ]
     },
     "metadata": {
      "needs_background": "light"
     },
     "output_type": "display_data"
    }
   ],
   "source": [
    "\n",
    "\n",
    "plt.plot(df['Date'], df.MM_avec_frais_1000e, color=\"orange\", label=\"MM 100p avec frais 1000€\")\n",
    "plt.plot(df['Date'], df['Adj Close']*10, color=\"b\", label=\"nasdaq 1000€\")\n",
    "\n",
    "\n",
    "plt.legend(loc=\"upper left\")\n",
    "plt.show()"
   ]
  },
  {
   "cell_type": "code",
   "execution_count": 364,
   "metadata": {},
   "outputs": [
    {
     "name": "stdout",
     "output_type": "stream",
     "text": [
      "nasdaq 1000€ : 140728€\n",
      "MM 100p avec frais 1000€ : 508165€\n"
     ]
    }
   ],
   "source": [
    "print(f\"nasdaq 1000€ : {int(df['Adj Close'].values[-1:][0]*10)}€\\nMM 100p avec frais 1000€ : {int(df.MM_avec_frais_1000e.values[-1:][0])}€\")"
   ]
  },
  {
   "cell_type": "code",
   "execution_count": 372,
   "metadata": {},
   "outputs": [
    {
     "data": {
      "text/plain": [
       "3.6"
      ]
     },
     "execution_count": 372,
     "metadata": {},
     "output_type": "execute_result"
    }
   ],
   "source": [
    "round((df.MM_avec_frais_1000e.values[-1:][0])/(df['Adj Close'].values[-1:][0]*10),1)"
   ]
  },
  {
   "cell_type": "code",
   "execution_count": 373,
   "metadata": {},
   "outputs": [
    {
     "data": {
      "text/plain": [
       "0          1000.000000\n",
       "1          1008.399960\n",
       "2          1007.600020\n",
       "3          1006.900020\n",
       "4          1014.499970\n",
       "             ...      \n",
       "12696    502347.533675\n",
       "12697    506268.315344\n",
       "12698    508040.929290\n",
       "12699    511822.315247\n",
       "12700    508165.161793\n",
       "Name: MM_avec_frais_1000e, Length: 12701, dtype: float64"
      ]
     },
     "execution_count": 373,
     "metadata": {},
     "output_type": "execute_result"
    }
   ],
   "source": [
    "df.MM_avec_frais_1000e"
   ]
  },
  {
   "cell_type": "code",
   "execution_count": 375,
   "metadata": {},
   "outputs": [
    {
     "data": {
      "text/plain": [
       "0          1000.00000\n",
       "1          1008.39996\n",
       "2          1007.60002\n",
       "3          1006.90002\n",
       "4          1014.49997\n",
       "             ...     \n",
       "12696    139117.50000\n",
       "12697    140203.30078\n",
       "12698    140694.19922\n",
       "12699    141741.39648\n",
       "12700    140728.60352\n",
       "Name: Adj Close, Length: 12701, dtype: float64"
      ]
     },
     "execution_count": 375,
     "metadata": {},
     "output_type": "execute_result"
    }
   ],
   "source": [
    "df['Adj Close']*10"
   ]
  },
  {
   "cell_type": "code",
   "execution_count": null,
   "metadata": {},
   "outputs": [],
   "source": []
  },
  {
   "cell_type": "code",
   "execution_count": null,
   "metadata": {},
   "outputs": [],
   "source": []
  },
  {
   "cell_type": "code",
   "execution_count": null,
   "metadata": {},
   "outputs": [],
   "source": []
  },
  {
   "cell_type": "code",
   "execution_count": null,
   "metadata": {},
   "outputs": [],
   "source": []
  },
  {
   "cell_type": "code",
   "execution_count": null,
   "metadata": {},
   "outputs": [],
   "source": []
  },
  {
   "cell_type": "code",
   "execution_count": null,
   "metadata": {},
   "outputs": [],
   "source": []
  },
  {
   "cell_type": "code",
   "execution_count": null,
   "metadata": {},
   "outputs": [],
   "source": []
  },
  {
   "cell_type": "code",
   "execution_count": null,
   "metadata": {},
   "outputs": [],
   "source": []
  },
  {
   "cell_type": "code",
   "execution_count": null,
   "metadata": {},
   "outputs": [],
   "source": []
  },
  {
   "cell_type": "code",
   "execution_count": null,
   "metadata": {},
   "outputs": [],
   "source": []
  },
  {
   "cell_type": "code",
   "execution_count": null,
   "metadata": {},
   "outputs": [],
   "source": []
  },
  {
   "cell_type": "code",
   "execution_count": null,
   "metadata": {},
   "outputs": [],
   "source": []
  },
  {
   "cell_type": "code",
   "execution_count": null,
   "metadata": {},
   "outputs": [],
   "source": []
  },
  {
   "cell_type": "code",
   "execution_count": null,
   "metadata": {},
   "outputs": [],
   "source": []
  },
  {
   "cell_type": "code",
   "execution_count": null,
   "metadata": {},
   "outputs": [],
   "source": []
  },
  {
   "cell_type": "code",
   "execution_count": null,
   "metadata": {},
   "outputs": [],
   "source": []
  },
  {
   "cell_type": "code",
   "execution_count": null,
   "metadata": {},
   "outputs": [],
   "source": []
  },
  {
   "cell_type": "code",
   "execution_count": null,
   "metadata": {},
   "outputs": [],
   "source": []
  },
  {
   "cell_type": "code",
   "execution_count": null,
   "metadata": {},
   "outputs": [],
   "source": []
  },
  {
   "cell_type": "code",
   "execution_count": null,
   "metadata": {},
   "outputs": [],
   "source": []
  }
 ],
 "metadata": {
  "kernelspec": {
   "display_name": "Python 3",
   "language": "python",
   "name": "python3"
  },
  "language_info": {
   "codemirror_mode": {
    "name": "ipython",
    "version": 3
   },
   "file_extension": ".py",
   "mimetype": "text/x-python",
   "name": "python",
   "nbconvert_exporter": "python",
   "pygments_lexer": "ipython3",
   "version": "3.7.6"
  }
 },
 "nbformat": 4,
 "nbformat_minor": 4
}
